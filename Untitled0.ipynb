{
  "nbformat": 4,
  "nbformat_minor": 0,
  "metadata": {
    "colab": {
      "provenance": [],
      "authorship_tag": "ABX9TyNakXRqsCDazbjP8cdCq0Vz",
      "include_colab_link": true
    },
    "kernelspec": {
      "name": "python3",
      "display_name": "Python 3"
    },
    "language_info": {
      "name": "python"
    }
  },
  "cells": [
    {
      "cell_type": "markdown",
      "metadata": {
        "id": "view-in-github",
        "colab_type": "text"
      },
      "source": [
        "<a href=\"https://colab.research.google.com/github/sumanth934/FSD/blob/master/Untitled0.ipynb\" target=\"_parent\"><img src=\"https://colab.research.google.com/assets/colab-badge.svg\" alt=\"Open In Colab\"/></a>"
      ]
    },
    {
      "cell_type": "code",
      "execution_count": 2,
      "metadata": {
        "colab": {
          "base_uri": "https://localhost:8080/"
        },
        "id": "0joPQgnkQiyh",
        "outputId": "d5e53a0b-1ead-410e-9608-c6c21bc926ac"
      },
      "outputs": [
        {
          "output_type": "stream",
          "name": "stdout",
          "text": [
            "[9, 8, 1, 7, 2]\n"
          ]
        }
      ],
      "source": [
        "num=[9,8,1,72]\n",
        "s=\"\"\n",
        "for i in num:\n",
        "    s+=str(i)\n",
        "res=[]\n",
        "for i in s:\n",
        "    res.append(int(i))\n",
        "print(res)"
      ]
    }
  ]
}